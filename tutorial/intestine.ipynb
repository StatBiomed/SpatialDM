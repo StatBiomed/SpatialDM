{
 "cells": [
  {
   "cell_type": "code",
   "execution_count": 1,
   "id": "b4577953",
   "metadata": {},
   "outputs": [],
   "source": [
    "import os\n",
    "import pandas as pd\n",
    "import numpy as np\n",
    "\n",
    "os.chdir('../spatialdm/')\n",
    "from main import *\n",
    "from plottings import *"
   ]
  },
  {
   "cell_type": "code",
   "execution_count": 2,
   "id": "3d278115",
   "metadata": {},
   "outputs": [],
   "source": [
    "datadir = '/home/yoyo/1_spatial/8_intestine/FINDer/csvs/'"
   ]
  },
  {
   "cell_type": "code",
   "execution_count": 3,
   "id": "7b31e6c3",
   "metadata": {
    "scrolled": true
   },
   "outputs": [
    {
     "data": {
      "text/plain": [
       "['A2_tissue_positions_list.csv',\n",
       " 'A3.csv',\n",
       " 'A7.csv',\n",
       " 'A8.csv',\n",
       " 'A1.csv',\n",
       " 'A4_tissue_positions_list.csv',\n",
       " 'A8_tissue_positions_list.csv',\n",
       " 'A8exp.csv',\n",
       " 'A9_tissue_positions_list.csv',\n",
       " 'A2.csv',\n",
       " 'A6.csv',\n",
       " 'A6_tissue_positions_list.csv',\n",
       " 'A4.csv',\n",
       " 'A7_tissue_positions_list.csv',\n",
       " 'A9.csv',\n",
       " 'A3_tissue_positions_list.csv',\n",
       " 'A1_tissue_positions_list.csv']"
      ]
     },
     "execution_count": 3,
     "metadata": {},
     "output_type": "execute_result"
    }
   ],
   "source": [
    "os.listdir(datadir)"
   ]
  },
  {
   "cell_type": "code",
   "execution_count": 31,
   "id": "16a16c01",
   "metadata": {},
   "outputs": [],
   "source": [
    "data=['A1','A2','A3','A4','A6','A7','A8','A9']"
   ]
  },
  {
   "cell_type": "code",
   "execution_count": 32,
   "id": "84096669",
   "metadata": {},
   "outputs": [
    {
     "name": "stdout",
     "output_type": "stream",
     "text": [
      "A1 done!\n",
      "A2 done!\n",
      "A3 done!\n",
      "A4 done!\n",
      "A6 done!\n",
      "A7 done!\n",
      "A8 done!\n",
      "A9 done!\n"
     ]
    }
   ],
   "source": [
    "createVar = locals()\n",
    "for d in data:\n",
    "    exp = pd.read_csv(os.path.join(datadir,'{}.csv'.format(d)), header=0, index_col=0)\n",
    "    spatial = pd.read_csv(os.path.join(datadir,'{}_tissue_positions_list.csv'.format(d)),\n",
    "                          header=None, index_col=0)\n",
    "    spatial = spatial.loc[spatial[1]==1,[4,5]]\n",
    "    spatial.columns = ['y','x']\n",
    "    spatial.y = -spatial.y\n",
    "    createVar[d] = SpatialDM(exp, spatial)     # load spatial data\n",
    "    print(d + ' done!')"
   ]
  },
  {
   "cell_type": "code",
   "execution_count": 33,
   "id": "36b6fec9",
   "metadata": {
    "scrolled": false
   },
   "outputs": [
    {
     "data": {
      "text/html": [
       "<div>\n",
       "<style scoped>\n",
       "    .dataframe tbody tr th:only-of-type {\n",
       "        vertical-align: middle;\n",
       "    }\n",
       "\n",
       "    .dataframe tbody tr th {\n",
       "        vertical-align: top;\n",
       "    }\n",
       "\n",
       "    .dataframe thead th {\n",
       "        text-align: right;\n",
       "    }\n",
       "</style>\n",
       "<table border=\"1\" class=\"dataframe\">\n",
       "  <thead>\n",
       "    <tr style=\"text-align: right;\">\n",
       "      <th></th>\n",
       "      <th>MIR1302-2HG</th>\n",
       "      <th>FAM138A</th>\n",
       "      <th>OR4F5</th>\n",
       "      <th>AL627309.1</th>\n",
       "      <th>AL627309.3</th>\n",
       "      <th>AL627309.2</th>\n",
       "      <th>AL627309.4</th>\n",
       "      <th>AL732372.1</th>\n",
       "      <th>OR4F29</th>\n",
       "      <th>AC114498.1</th>\n",
       "      <th>...</th>\n",
       "      <th>AC007325.2</th>\n",
       "      <th>BX072566.1</th>\n",
       "      <th>AL354822.1</th>\n",
       "      <th>AC023491.2</th>\n",
       "      <th>AC004556.1</th>\n",
       "      <th>AC233755.2</th>\n",
       "      <th>AC233755.1</th>\n",
       "      <th>AC240274.1</th>\n",
       "      <th>AC213203.1</th>\n",
       "      <th>FAM231C</th>\n",
       "    </tr>\n",
       "  </thead>\n",
       "  <tbody>\n",
       "    <tr>\n",
       "      <th>CGTGCCCGACATTTGT-1</th>\n",
       "      <td>0.0</td>\n",
       "      <td>0.0</td>\n",
       "      <td>0.0</td>\n",
       "      <td>0.0</td>\n",
       "      <td>0.0</td>\n",
       "      <td>0.0</td>\n",
       "      <td>0.0</td>\n",
       "      <td>0.0</td>\n",
       "      <td>0.0</td>\n",
       "      <td>0.0</td>\n",
       "      <td>...</td>\n",
       "      <td>0.0</td>\n",
       "      <td>0.0</td>\n",
       "      <td>0.0</td>\n",
       "      <td>0.0</td>\n",
       "      <td>0.0</td>\n",
       "      <td>0.0</td>\n",
       "      <td>0.0</td>\n",
       "      <td>0.0</td>\n",
       "      <td>0.0</td>\n",
       "      <td>0.0</td>\n",
       "    </tr>\n",
       "    <tr>\n",
       "      <th>GTATCTCCCTAACTGT-1</th>\n",
       "      <td>0.0</td>\n",
       "      <td>0.0</td>\n",
       "      <td>0.0</td>\n",
       "      <td>0.0</td>\n",
       "      <td>0.0</td>\n",
       "      <td>0.0</td>\n",
       "      <td>0.0</td>\n",
       "      <td>0.0</td>\n",
       "      <td>0.0</td>\n",
       "      <td>0.0</td>\n",
       "      <td>...</td>\n",
       "      <td>0.0</td>\n",
       "      <td>0.0</td>\n",
       "      <td>0.0</td>\n",
       "      <td>0.0</td>\n",
       "      <td>0.0</td>\n",
       "      <td>0.0</td>\n",
       "      <td>0.0</td>\n",
       "      <td>0.0</td>\n",
       "      <td>0.0</td>\n",
       "      <td>0.0</td>\n",
       "    </tr>\n",
       "    <tr>\n",
       "      <th>ATTTGCCTAGTTACGA-1</th>\n",
       "      <td>0.0</td>\n",
       "      <td>0.0</td>\n",
       "      <td>0.0</td>\n",
       "      <td>0.0</td>\n",
       "      <td>0.0</td>\n",
       "      <td>0.0</td>\n",
       "      <td>0.0</td>\n",
       "      <td>0.0</td>\n",
       "      <td>0.0</td>\n",
       "      <td>0.0</td>\n",
       "      <td>...</td>\n",
       "      <td>0.0</td>\n",
       "      <td>0.0</td>\n",
       "      <td>0.0</td>\n",
       "      <td>0.0</td>\n",
       "      <td>0.0</td>\n",
       "      <td>0.0</td>\n",
       "      <td>0.0</td>\n",
       "      <td>0.0</td>\n",
       "      <td>0.0</td>\n",
       "      <td>0.0</td>\n",
       "    </tr>\n",
       "    <tr>\n",
       "      <th>ACGTCCTAAACGAGAT-1</th>\n",
       "      <td>0.0</td>\n",
       "      <td>0.0</td>\n",
       "      <td>0.0</td>\n",
       "      <td>0.0</td>\n",
       "      <td>0.0</td>\n",
       "      <td>0.0</td>\n",
       "      <td>0.0</td>\n",
       "      <td>0.0</td>\n",
       "      <td>0.0</td>\n",
       "      <td>0.0</td>\n",
       "      <td>...</td>\n",
       "      <td>0.0</td>\n",
       "      <td>0.0</td>\n",
       "      <td>0.0</td>\n",
       "      <td>0.0</td>\n",
       "      <td>0.0</td>\n",
       "      <td>0.0</td>\n",
       "      <td>0.0</td>\n",
       "      <td>0.0</td>\n",
       "      <td>0.0</td>\n",
       "      <td>0.0</td>\n",
       "    </tr>\n",
       "    <tr>\n",
       "      <th>CTGGGATCGCCCAGAT-1</th>\n",
       "      <td>0.0</td>\n",
       "      <td>0.0</td>\n",
       "      <td>0.0</td>\n",
       "      <td>0.0</td>\n",
       "      <td>0.0</td>\n",
       "      <td>0.0</td>\n",
       "      <td>0.0</td>\n",
       "      <td>0.0</td>\n",
       "      <td>0.0</td>\n",
       "      <td>0.0</td>\n",
       "      <td>...</td>\n",
       "      <td>0.0</td>\n",
       "      <td>0.0</td>\n",
       "      <td>0.0</td>\n",
       "      <td>0.0</td>\n",
       "      <td>0.0</td>\n",
       "      <td>0.0</td>\n",
       "      <td>0.0</td>\n",
       "      <td>0.0</td>\n",
       "      <td>0.0</td>\n",
       "      <td>0.0</td>\n",
       "    </tr>\n",
       "  </tbody>\n",
       "</table>\n",
       "<p>5 rows × 33538 columns</p>\n",
       "</div>"
      ],
      "text/plain": [
       "                    MIR1302-2HG  FAM138A  OR4F5  AL627309.1  AL627309.3  \\\n",
       "CGTGCCCGACATTTGT-1          0.0      0.0    0.0         0.0         0.0   \n",
       "GTATCTCCCTAACTGT-1          0.0      0.0    0.0         0.0         0.0   \n",
       "ATTTGCCTAGTTACGA-1          0.0      0.0    0.0         0.0         0.0   \n",
       "ACGTCCTAAACGAGAT-1          0.0      0.0    0.0         0.0         0.0   \n",
       "CTGGGATCGCCCAGAT-1          0.0      0.0    0.0         0.0         0.0   \n",
       "\n",
       "                    AL627309.2  AL627309.4  AL732372.1  OR4F29  AC114498.1  \\\n",
       "CGTGCCCGACATTTGT-1         0.0         0.0         0.0     0.0         0.0   \n",
       "GTATCTCCCTAACTGT-1         0.0         0.0         0.0     0.0         0.0   \n",
       "ATTTGCCTAGTTACGA-1         0.0         0.0         0.0     0.0         0.0   \n",
       "ACGTCCTAAACGAGAT-1         0.0         0.0         0.0     0.0         0.0   \n",
       "CTGGGATCGCCCAGAT-1         0.0         0.0         0.0     0.0         0.0   \n",
       "\n",
       "                    ...  AC007325.2  BX072566.1  AL354822.1  AC023491.2  \\\n",
       "CGTGCCCGACATTTGT-1  ...         0.0         0.0         0.0         0.0   \n",
       "GTATCTCCCTAACTGT-1  ...         0.0         0.0         0.0         0.0   \n",
       "ATTTGCCTAGTTACGA-1  ...         0.0         0.0         0.0         0.0   \n",
       "ACGTCCTAAACGAGAT-1  ...         0.0         0.0         0.0         0.0   \n",
       "CTGGGATCGCCCAGAT-1  ...         0.0         0.0         0.0         0.0   \n",
       "\n",
       "                    AC004556.1  AC233755.2  AC233755.1  AC240274.1  \\\n",
       "CGTGCCCGACATTTGT-1         0.0         0.0         0.0         0.0   \n",
       "GTATCTCCCTAACTGT-1         0.0         0.0         0.0         0.0   \n",
       "ATTTGCCTAGTTACGA-1         0.0         0.0         0.0         0.0   \n",
       "ACGTCCTAAACGAGAT-1         0.0         0.0         0.0         0.0   \n",
       "CTGGGATCGCCCAGAT-1         0.0         0.0         0.0         0.0   \n",
       "\n",
       "                    AC213203.1  FAM231C  \n",
       "CGTGCCCGACATTTGT-1         0.0      0.0  \n",
       "GTATCTCCCTAACTGT-1         0.0      0.0  \n",
       "ATTTGCCTAGTTACGA-1         0.0      0.0  \n",
       "ACGTCCTAAACGAGAT-1         0.0      0.0  \n",
       "CTGGGATCGCCCAGAT-1         0.0      0.0  \n",
       "\n",
       "[5 rows x 33538 columns]"
      ]
     },
     "execution_count": 33,
     "metadata": {},
     "output_type": "execute_result"
    }
   ],
   "source": [
    "exp.head()"
   ]
  },
  {
   "cell_type": "code",
   "execution_count": 10,
   "id": "3bc15d3a",
   "metadata": {},
   "outputs": [
    {
     "data": {
      "text/html": [
       "<div>\n",
       "<style scoped>\n",
       "    .dataframe tbody tr th:only-of-type {\n",
       "        vertical-align: middle;\n",
       "    }\n",
       "\n",
       "    .dataframe tbody tr th {\n",
       "        vertical-align: top;\n",
       "    }\n",
       "\n",
       "    .dataframe thead th {\n",
       "        text-align: right;\n",
       "    }\n",
       "</style>\n",
       "<table border=\"1\" class=\"dataframe\">\n",
       "  <thead>\n",
       "    <tr style=\"text-align: right;\">\n",
       "      <th></th>\n",
       "      <th>x</th>\n",
       "      <th>y</th>\n",
       "    </tr>\n",
       "    <tr>\n",
       "      <th>0</th>\n",
       "      <th></th>\n",
       "      <th></th>\n",
       "    </tr>\n",
       "  </thead>\n",
       "  <tbody>\n",
       "    <tr>\n",
       "      <th>CGTGCCCGACATTTGT-1</th>\n",
       "      <td>1170</td>\n",
       "      <td>4951</td>\n",
       "    </tr>\n",
       "    <tr>\n",
       "      <th>GTATCTCCCTAACTGT-1</th>\n",
       "      <td>1071</td>\n",
       "      <td>5007</td>\n",
       "    </tr>\n",
       "    <tr>\n",
       "      <th>ATTTGCCTAGTTACGA-1</th>\n",
       "      <td>1169</td>\n",
       "      <td>5065</td>\n",
       "    </tr>\n",
       "    <tr>\n",
       "      <th>ACGTCCTAAACGAGAT-1</th>\n",
       "      <td>1070</td>\n",
       "      <td>5121</td>\n",
       "    </tr>\n",
       "    <tr>\n",
       "      <th>CTGGGATCGCCCAGAT-1</th>\n",
       "      <td>1169</td>\n",
       "      <td>5178</td>\n",
       "    </tr>\n",
       "  </tbody>\n",
       "</table>\n",
       "</div>"
      ],
      "text/plain": [
       "                       x     y\n",
       "0                             \n",
       "CGTGCCCGACATTTGT-1  1170  4951\n",
       "GTATCTCCCTAACTGT-1  1071  5007\n",
       "ATTTGCCTAGTTACGA-1  1169  5065\n",
       "ACGTCCTAAACGAGAT-1  1070  5121\n",
       "CTGGGATCGCCCAGAT-1  1169  5178"
      ]
     },
     "execution_count": 10,
     "metadata": {},
     "output_type": "execute_result"
    }
   ],
   "source": [
    "spatial.head()"
   ]
  },
  {
   "cell_type": "code",
   "execution_count": 144,
   "id": "ea543e3f",
   "metadata": {},
   "outputs": [],
   "source": [
    "samples = [A1,A2,A3,A4,A6,A7,A8,A9]"
   ]
  },
  {
   "cell_type": "code",
   "execution_count": null,
   "id": "99914129",
   "metadata": {},
   "outputs": [],
   "source": [
    "for sample in samples:\n",
    "    sample.weight_matrix(l=75, cutoff=0.2, single_cell=False) # weight_matrix by rbf kernel\n",
    "\n",
    "    sample.extract_lr('human', '/home/yoyo/1_spatial', min_cell=10)      # find overlapping LRs from CellChatDB\n",
    "\n",
    "    sample.spatialdm_global(100, select_num=None, method='z-score',nproc=50)     # global Moran selection\n",
    "\n",
    "    sample.sig_pairs(method='z-score', fdr=True, threshold=0.1)     # select significant pairs\n",
    "\n",
    "    sample.spatialdm_local(n_perm=100, method='z-score', select_num=None, nproc=50)     # local spot selection\n",
    "    sample.sig_spots(method='z-score', fdr=False, threshold=0.1)     # significant local spots"
   ]
  },
  {
   "cell_type": "code",
   "execution_count": null,
   "id": "60c8e85f",
   "metadata": {},
   "outputs": [],
   "source": [
    "data_dir='/home/yoyo/1_spatial/1_Tumor/git_rep/SpatialDM/tutorial/output/'\n",
    "for sample,d in zip(samples, data):\n",
    "    sample.save_spataildm(os.path.join(data_dir, d))"
   ]
  },
  {
   "cell_type": "code",
   "execution_count": 210,
   "id": "73239a6d",
   "metadata": {},
   "outputs": [],
   "source": [
    "def concat_db(samples):\n",
    "    db=pd.DataFrame({'ligand':np.hstack([sample.ligand for sample in samples]),\n",
    "                 'receptor':np.hstack([sample.receptor for sample in samples])},\n",
    "                index=np.hstack([sample.ind for sample in samples]))\n",
    "    db=db[~db.index.duplicated()]\n",
    "    return db"
   ]
  },
  {
   "cell_type": "code",
   "execution_count": 211,
   "id": "fc7ada24",
   "metadata": {},
   "outputs": [],
   "source": [
    "concat=concat_obj(samples, data, 'z-score', fdr=False)"
   ]
  },
  {
   "cell_type": "code",
   "execution_count": 215,
   "id": "ba670550",
   "metadata": {},
   "outputs": [],
   "source": [
    "conditions = np.hstack((np.repeat([1],2), np.repeat([0],4)))\n",
    "subset = ['A1', 'A2', 'A3', 'A4', 'A8', 'A9']"
   ]
  },
  {
   "cell_type": "code",
   "execution_count": 216,
   "id": "2db11e16",
   "metadata": {},
   "outputs": [
    {
     "name": "stderr",
     "output_type": "stream",
     "text": [
      "/home/yoyo/miniconda2/envs/CC/lib/python3.9/site-packages/statsmodels/regression/linear_model.py:903: RuntimeWarning: divide by zero encountered in log\n",
      "  llf = -nobs2*np.log(2*np.pi) - nobs2*np.log(ssr / nobs) - nobs2\n",
      "/tmp/ipykernel_51959/437067795.py:64: RuntimeWarning: invalid value encountered in double_scalars\n",
      "  LR_statistic[i] = -2*(reduced_ll-full_ll)\n"
     ]
    }
   ],
   "source": [
    "concat.differential_test(subset, conditions)"
   ]
  },
  {
   "cell_type": "code",
   "execution_count": 282,
   "id": "ffa3f8e8",
   "metadata": {
    "scrolled": false
   },
   "outputs": [
    {
     "name": "stderr",
     "output_type": "stream",
     "text": [
      "*c* argument looks like a single numeric RGB or RGBA sequence, which should be avoided as value-mapping will have precedence in case its length matches with *x* & *y*.  Please use the *color* keyword-argument or provide a 2D array with a single row if you intend to specify the same RGB or RGBA value for all points.\n",
      "*c* argument looks like a single numeric RGB or RGBA sequence, which should be avoided as value-mapping will have precedence in case its length matches with *x* & *y*.  Please use the *color* keyword-argument or provide a 2D array with a single row if you intend to specify the same RGB or RGBA value for all points.\n",
      "*c* argument looks like a single numeric RGB or RGBA sequence, which should be avoided as value-mapping will have precedence in case its length matches with *x* & *y*.  Please use the *color* keyword-argument or provide a 2D array with a single row if you intend to specify the same RGB or RGBA value for all points.\n",
      "*c* argument looks like a single numeric RGB or RGBA sequence, which should be avoided as value-mapping will have precedence in case its length matches with *x* & *y*.  Please use the *color* keyword-argument or provide a 2D array with a single row if you intend to specify the same RGB or RGBA value for all points.\n"
     ]
    },
    {
     "data": {
      "image/png": "[encoded data removed]",
      "text/plain": [
       "<Figure size 432x288 with 1 Axes>"
      ]
     },
     "metadata": {
      "needs_background": "light"
     },
     "output_type": "display_data"
    }
   ],
   "source": [
    "volcano(concat, pairs=['CEACAM1_CEACAM5', 'NRG4_ERBB2_ERBB4', 'PLG_F2RL1','BMP2_BMPR1A_ACVR2A'], legend=['adult specific', 'fetus specific'], \n",
    "        xmax = 25, xmin = -20, diff_quantile1 = 0.7, diff_quantile2 = 0.3, fdr_co = 0.1)\n",
    "plt.savefig('../tutorial/volcano.pdf')"
   ]
  },
  {
   "cell_type": "code",
   "execution_count": 313,
   "id": "cf1a6937",
   "metadata": {},
   "outputs": [],
   "source": [
    "group_differential_pairs(concat, 'adult', 'fetus')"
   ]
  },
  {
   "cell_type": "code",
   "execution_count": 334,
   "id": "fbc324cb",
   "metadata": {
    "scrolled": true
   },
   "outputs": [],
   "source": [
    "compute_pathway(concat, ls=concat.adult_specific.values, path_name = 'adult_specific_pathways')\n",
    "\n",
    "compute_pathway(concat, ls=concat.fetus_specific.values, path_name = 'fetus_specific_pathways')"
   ]
  },
  {
   "cell_type": "code",
   "execution_count": 339,
   "id": "ec1332c6",
   "metadata": {},
   "outputs": [
    {
     "data": {
      "image/png": "[encoded data removed]",
      "text/plain": [
       "<Figure size 216x576 with 2 Axes>"
      ]
     },
     "metadata": {
      "needs_background": "light"
     },
     "output_type": "display_data"
    }
   ],
   "source": [
    "dot_path(concat, 'adult_specific_pathways', figsize=(3,8))"
   ]
  },
  {
   "cell_type": "code",
   "execution_count": 341,
   "id": "66845bca",
   "metadata": {},
   "outputs": [
    {
     "data": {
      "image/png": "[encoded data removed]",
      "text/plain": [
       "<Figure size 216x576 with 2 Axes>"
      ]
     },
     "metadata": {
      "needs_background": "light"
     },
     "output_type": "display_data"
    }
   ],
   "source": [
    "dot_path(concat, 'fetus_specific_pathways', figsize=(3,8))"
   ]
  },
  {
   "cell_type": "code",
   "execution_count": 342,
   "id": "13e108a6",
   "metadata": {
    "scrolled": false
   },
   "outputs": [],
   "source": [
    "# plot_pairs(A1, ['CEACAM1_CEACAM5'])"
   ]
  }
 ],
 "metadata": {
  "kernelspec": {
   "display_name": "Python 3",
   "language": "python",
   "name": "python3"
  },
  "language_info": {
   "codemirror_mode": {
    "name": "ipython",
    "version": 3
   },
   "file_extension": ".py",
   "mimetype": "text/x-python",
   "name": "python",
   "nbconvert_exporter": "python",
   "pygments_lexer": "ipython3",
   "version": "3.9.7"
  }
 },
 "nbformat": 4,
 "nbformat_minor": 5
}

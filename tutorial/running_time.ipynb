{
 "cells": [
  {
   "cell_type": "code",
   "execution_count": 1,
   "id": "f8922ac1",
   "metadata": {},
   "outputs": [],
   "source": [
    "import os\n",
    "import pandas as pd\n",
    "import numpy as np\n",
    "\n",
    "os.chdir('../spatialdm/')\n",
    "# from main import *\n",
    "from plottings import *"
   ]
  },
  {
   "cell_type": "code",
   "execution_count": 2,
   "id": "e813cb15",
   "metadata": {},
   "outputs": [],
   "source": [
    "from main import *\n"
   ]
  },
  {
   "cell_type": "code",
   "execution_count": 39,
   "id": "24d272f4",
   "metadata": {},
   "outputs": [],
   "source": [
    "from main_sparse import *\n"
   ]
  },
  {
   "cell_type": "code",
   "execution_count": 3,
   "id": "23a527ac",
   "metadata": {},
   "outputs": [],
   "source": [
    "import anndata as ann\n",
    "import scanpy as sc\n",
    "import matplotlib.pyplot as plt\n",
    "import time"
   ]
  },
  {
   "cell_type": "code",
   "execution_count": 22,
   "id": "7ddf90cc",
   "metadata": {},
   "outputs": [],
   "source": [
    "from scipy import spatial"
   ]
  },
  {
   "cell_type": "code",
   "execution_count": 4,
   "id": "bd6b63de",
   "metadata": {
    "scrolled": true
   },
   "outputs": [],
   "source": [
    "adata = sc.read_h5ad('/home/yoyo/1_spatial/2_BGI_mouse/E16.5_E1S3.MOSTA.h5ad')"
   ]
  },
  {
   "cell_type": "code",
   "execution_count": 10,
   "id": "7c9bd2c7",
   "metadata": {},
   "outputs": [
    {
     "data": {
      "text/plain": [
       "AnnData object with n_obs × n_vars = 10000 × 28579\n",
       "    obs: 'n_genes_by_counts', 'log1p_n_genes_by_counts', 'total_counts', 'log1p_total_counts', 'annotation', 'Regulon - 2610044O15Rik8', 'Regulon - 5730507C01Rik', 'Regulon - A1cf', 'Regulon - AW146154', 'Regulon - Ahctf1', 'Regulon - Alx1', 'Regulon - Alx3', 'Regulon - Alx4', 'Regulon - Apex1', 'Regulon - Arid3a', 'Regulon - Arnt', 'Regulon - Arnt2', 'Regulon - Arx', 'Regulon - Atf1', 'Regulon - Atf2', 'Regulon - Atf4', 'Regulon - Atf5', 'Regulon - Atf6', 'Regulon - Banp', 'Regulon - Barhl1', 'Regulon - Barhl2', 'Regulon - Barx1', 'Regulon - Barx2', 'Regulon - Batf', 'Regulon - Bbx', 'Regulon - Bcl11a', 'Regulon - Bclaf1', 'Regulon - Bhlha15', 'Regulon - Bhlhe22', 'Regulon - Bhlhe40', 'Regulon - Bmyc', 'Regulon - Borcs8', 'Regulon - Brca1', 'Regulon - Brf1', 'Regulon - Bsx', 'Regulon - Carf', 'Regulon - Cbfb', 'Regulon - Cdc5l', 'Regulon - Cdx1', 'Regulon - Cdx2', 'Regulon - Cebpa', 'Regulon - Cebpb', 'Regulon - Cebpd', 'Regulon - Cebpe', 'Regulon - Cebpg', 'Regulon - Cebpz', 'Regulon - Chd1', 'Regulon - Ckmt1', 'Regulon - Clock', 'Regulon - Cnot3', 'Regulon - Cpeb1', 'Regulon - Creb1', 'Regulon - Creb3', 'Regulon - Creb3l1', 'Regulon - Creb3l2', 'Regulon - Creb3l4', 'Regulon - Creb5', 'Regulon - Csnk2b', 'Regulon - Ctcf', 'Regulon - Ctcfl', 'Regulon - Ctnnb1', 'Regulon - Cux1', 'Regulon - Cux2', 'Regulon - D3Ertd254e', 'Regulon - Dbx1', 'Regulon - Ddit3', 'Regulon - Dlx1', 'Regulon - Dlx2', 'Regulon - Dlx3', 'Regulon - Dlx5', 'Regulon - Dlx6', 'Regulon - Dmbx1', 'Regulon - Dmrt3', 'Regulon - Dmrta1', 'Regulon - E2f1', 'Regulon - E2f2', 'Regulon - E2f3', 'Regulon - E2f4', 'Regulon - E2f5', 'Regulon - E2f6', 'Regulon - E2f7', 'Regulon - E2f8', 'Regulon - Ebf1', 'Regulon - Ebf2', 'Regulon - Egr1', 'Regulon - Egr2', 'Regulon - Egr3', 'Regulon - Ehf', 'Regulon - Elf1', 'Regulon - Elf2', 'Regulon - Elf3', 'Regulon - Elf4', 'Regulon - Elk1', 'Regulon - Elk3', 'Regulon - Elk4', 'Regulon - Emx1', 'Regulon - Emx2', 'Regulon - En1', 'Regulon - En2', 'Regulon - Eomes', 'Regulon - Ep300', 'Regulon - Esrra', 'Regulon - Esrrg', 'Regulon - Ets1', 'Regulon - Ets2', 'Regulon - Etv6', 'Regulon - Evx1', 'Regulon - Evx2', 'Regulon - Ezh2', 'Regulon - Fli1', 'Regulon - Fos', 'Regulon - Fosl1', 'Regulon - Fosl2', 'Regulon - Foxa1', 'Regulon - Foxa2', 'Regulon - Foxa3', 'Regulon - Foxb1', 'Regulon - Foxc1', 'Regulon - Foxc2', 'Regulon - Foxd1', 'Regulon - Foxf1', 'Regulon - Foxf2', 'Regulon - Foxi1', 'Regulon - Foxj1', 'Regulon - Foxj2', 'Regulon - Foxj3', 'Regulon - Foxl1', 'Regulon - Foxm1', 'Regulon - Foxn1', 'Regulon - Foxn3', 'Regulon - Foxo1', 'Regulon - Foxo3', 'Regulon - Foxo6', 'Regulon - Foxp1', 'Regulon - Foxp2', 'Regulon - Foxp4', 'Regulon - Foxq1', 'Regulon - Foxr2', 'Regulon - Gabpa', 'Regulon - Gabpb1', 'Regulon - Gata1', 'Regulon - Gata2', 'Regulon - Gata3', 'Regulon - Gata4', 'Regulon - Gata5', 'Regulon - Gata6', 'Regulon - Gbx1', 'Regulon - Gli1', 'Regulon - Gli2', 'Regulon - Glis3', 'Regulon - Gm14305', 'Regulon - Gm3055', 'Regulon - Gmeb1', 'Regulon - Grhl1', 'Regulon - Grhl2', 'Regulon - Grhl3', 'Regulon - Gsx1', 'Regulon - Gsx2', 'Regulon - Gtf2f1', 'Regulon - Gtf2ird1', 'Regulon - Gtpbp1', 'Regulon - Hand2', 'Regulon - Hbp1', 'Regulon - Hcfc1', 'Regulon - Hdac2', 'Regulon - Hdac3', 'Regulon - Hdac6', 'Regulon - Hes5', 'Regulon - Hes6', 'Regulon - Heyl', 'Regulon - Hic1', 'Regulon - Hlx', 'Regulon - Hmga2', 'Regulon - Hmgb3', 'Regulon - Hmx1', 'Regulon - Hnf1b', 'Regulon - Hnf4a', 'Regulon - Hnf4g', 'Regulon - Hoxa10', 'Regulon - Hoxa11', 'Regulon - Hoxa13', 'Regulon - Hoxa2', 'Regulon - Hoxa3', 'Regulon - Hoxa4', 'Regulon - Hoxa5', 'Regulon - Hoxa7', 'Regulon - Hoxa9', 'Regulon - Hoxb3', 'Regulon - Hoxb4', 'Regulon - Hoxb5', 'Regulon - Hoxb6', 'Regulon - Hoxb7', 'Regulon - Hoxb8', 'Regulon - Hoxb9', 'Regulon - Hoxc10', 'Regulon - Hoxc11', 'Regulon - Hoxc13', 'Regulon - Hoxc4', 'Regulon - Hoxc5', 'Regulon - Hoxc6', 'Regulon - Hoxc8', 'Regulon - Hoxc9', 'Regulon - Hoxd10', 'Regulon - Hoxd11', 'Regulon - Hoxd13', 'Regulon - Hoxd3', 'Regulon - Hoxd8', 'Regulon - Hoxd9', 'Regulon - Ikzf1', 'Regulon - Irf1', 'Regulon - Irf2', 'Regulon - Irf3', 'Regulon - Irf5', 'Regulon - Irf6', 'Regulon - Irf8', 'Regulon - Irf9', 'Regulon - Irx4', 'Regulon - Isl1', 'Regulon - Isl2', 'Regulon - Isx', 'Regulon - Jdp2', 'Regulon - Jun', 'Regulon - Junb', 'Regulon - Jund', 'Regulon - Kdm5a', 'Regulon - Kdm5b', 'Regulon - Klf10', 'Regulon - Klf15', 'Regulon - Klf16', 'Regulon - Klf2', 'Regulon - Klf3', 'Regulon - Klf4', 'Regulon - Klf5', 'Regulon - Klf6', 'Regulon - Klf7', 'Regulon - Lbx1', 'Regulon - Lef1', 'Regulon - Lhx1', 'Regulon - Lhx2', 'Regulon - Lhx3', 'Regulon - Lhx4', 'Regulon - Lhx5', 'Regulon - Lhx6', 'Regulon - Lhx8', 'Regulon - Lhx9', 'Regulon - Lmo2', 'Regulon - Lmx1a', 'Regulon - Lmx1b', 'Regulon - Ltf', 'Regulon - Maf', 'Regulon - Mafa', 'Regulon - Mafb', 'Regulon - Maff', 'Regulon - Mafk', 'Regulon - Max', 'Regulon - Maz', 'Regulon - Mecp2', 'Regulon - Mef2a', 'Regulon - Mef2c', 'Regulon - Mef2d', 'Regulon - Meis1', 'Regulon - Meis2', 'Regulon - Meis3', 'Regulon - Mitf', 'Regulon - Mlx', 'Regulon - Mlxip', 'Regulon - Mnx1', 'Regulon - Msc', 'Regulon - Msx1', 'Regulon - Msx2', 'Regulon - Msx3', 'Regulon - Mta3', 'Regulon - Mtf1', 'Regulon - Mxd1', 'Regulon - Mxi1', 'Regulon - Myb', 'Regulon - Mybl1', 'Regulon - Myc', 'Regulon - Myef2', 'Regulon - Myf5', 'Regulon - Myf6', 'Regulon - Myod1', 'Regulon - Myog', 'Regulon - Nanos1', 'Regulon - Nelfe', 'Regulon - Neurod1', 'Regulon - Neurod2', 'Regulon - Neurog1', 'Regulon - Nfatc1', 'Regulon - Nfatc2', 'Regulon - Nfatc4', 'Regulon - Nfe2', 'Regulon - Nfe2l1', 'Regulon - Nfe2l2', 'Regulon - Nfe2l3', 'Regulon - Nfic', 'Regulon - Nfil3', 'Regulon - Nfix', 'Regulon - Nfkb1', 'Regulon - Nfkb2', 'Regulon - Nfya', 'Regulon - Nfyb', 'Regulon - Nfyc', 'Regulon - Nhlh1', 'Regulon - Nkx1-1', 'Regulon - Nkx2-1', 'Regulon - Nkx2-5', 'Regulon - Nkx2-6', 'Regulon - Nkx6-2', 'Regulon - Nkx6-3', 'Regulon - Npdc1', 'Regulon - Nr1d1', 'Regulon - Nr1h3', 'Regulon - Nr1h4', 'Regulon - Nr1h5', 'Regulon - Nr1i2', 'Regulon - Nr1i3', 'Regulon - Nr2c1', 'Regulon - Nr2c2', 'Regulon - Nr2f2', 'Regulon - Nr2f6', 'Regulon - Nr3c1', 'Regulon - Nr4a1', 'Regulon - Nr5a1', 'Regulon - Nr5a2', 'Regulon - Nucb1', 'Regulon - Olig1', 'Regulon - Onecut1', 'Regulon - Onecut2', 'Regulon - Onecut3', 'Regulon - Otp', 'Regulon - Otud4', 'Regulon - Otx2', 'Regulon - Patz1', 'Regulon - Pax6', 'Regulon - Pax8', 'Regulon - Pbx1', 'Regulon - Pbx4', 'Regulon - Phox2a', 'Regulon - Phox2b', 'Regulon - Pitx1', 'Regulon - Pitx2', 'Regulon - Pknox1', 'Regulon - Pknox2', 'Regulon - Pole4', 'Regulon - Pou1f1', 'Regulon - Pou2f1', 'Regulon - Pou3f1', 'Regulon - Pou3f2', 'Regulon - Pou3f3', 'Regulon - Pou3f4', 'Regulon - Pou4f1', 'Regulon - Pou4f2', 'Regulon - Pou4f3', 'Regulon - Pou6f2', 'Regulon - Ppara', 'Regulon - Ppard', 'Regulon - Pparg', 'Regulon - Ppargc1a', 'Regulon - Prop1', 'Regulon - Prrx1', 'Regulon - Prrxl1', 'Regulon - Ptf1a', 'Regulon - Rad21', 'Regulon - Rara', 'Regulon - Rarb', 'Regulon - Rbbp5', 'Regulon - Rbpj', 'Regulon - Rcor1', 'Regulon - Relb', 'Regulon - Rest', 'Regulon - Rfx2', 'Regulon - Rfx3', 'Regulon - Rfx4', 'Regulon - Rfxap', 'Regulon - Rora', 'Regulon - Rreb1', 'Regulon - Runx1', 'Regulon - Rxra', 'Regulon - Rxrg', 'Regulon - Sap30', 'Regulon - Setdb1', 'Regulon - Shox2', 'Regulon - Sin3a', 'Regulon - Sirt6', 'Regulon - Six1', 'Regulon - Six2', 'Regulon - Six4', 'Regulon - Six6', 'Regulon - Smad3', 'Regulon - Smad5', 'Regulon - Smad6', 'Regulon - Smad9', 'Regulon - Smarca4', 'Regulon - Smarcb1', 'Regulon - Smarcc2', 'Regulon - Snai3', 'Regulon - Sox10', 'Regulon - Sox11', 'Regulon - Sox13', 'Regulon - Sox14', 'Regulon - Sox17', 'Regulon - Sox18', 'Regulon - Sox2', 'Regulon - Sox21', 'Regulon - Sox3', 'Regulon - Sox4', 'Regulon - Sox6', 'Regulon - Sox7', 'Regulon - Sox8', 'Regulon - Sox9', 'Regulon - Sp1', 'Regulon - Sp2', 'Regulon - Sp4', 'Regulon - Sp6', 'Regulon - Sp7', 'Regulon - Sp9', 'Regulon - Spi1', 'Regulon - Spib', 'Regulon - Srebf2', 'Regulon - Srf', 'Regulon - Stat1', 'Regulon - Stat3', 'Regulon - Stat5b', 'Regulon - Stat6', 'Regulon - Supt20', 'Regulon - Suz12', 'Regulon - Taf1', 'Regulon - Taf7', 'Regulon - Tagln2', 'Regulon - Tal1', 'Regulon - Tbp', 'Regulon - Tbr1', 'Regulon - Tbx1', 'Regulon - Tbx15', 'Regulon - Tbx2', 'Regulon - Tbx20', 'Regulon - Tbx4', 'Regulon - Tbx5', 'Regulon - Tcf12', 'Regulon - Tcf21', 'Regulon - Tcf3', 'Regulon - Tcf4', 'Regulon - Tcf7', 'Regulon - Tcf7l1', 'Regulon - Tcf7l2', 'Regulon - Tead1', 'Regulon - Tead2', 'Regulon - Tead3', 'Regulon - Tead4', 'Regulon - Tef', 'Regulon - Tfap2b', 'Regulon - Tfap2c', 'Regulon - Tfcp2l1', 'Regulon - Tfdp1', 'Regulon - Tfec', 'Regulon - Tff3', 'Regulon - Tgif1', 'Regulon - Thap1', 'Regulon - Thap11', 'Regulon - Thra', 'Regulon - Thrb', 'Regulon - Tlx2', 'Regulon - Tlx3', 'Regulon - Traf4', 'Regulon - Trim28', 'Regulon - Trp63', 'Regulon - Trp73', 'Regulon - Twist1', 'Regulon - Twist2', 'Regulon - Ubtf', 'Regulon - Uncx', 'Regulon - Usf1', 'Regulon - Usf2', 'Regulon - Vax1', 'Regulon - Vax2', 'Regulon - Vdr', 'Regulon - Vezf1', 'Regulon - Vsx2', 'Regulon - Wt1', 'Regulon - Xbp1', 'Regulon - Xrcc4', 'Regulon - Yy1', 'Regulon - Zbtb17', 'Regulon - Zbtb18', 'Regulon - Zbtb46', 'Regulon - Zbtb6', 'Regulon - Zbtb7a', 'Regulon - Zdhhc24', 'Regulon - Zeb1', 'Regulon - Zfp110', 'Regulon - Zfp143', 'Regulon - Zfp189', 'Regulon - Zfp263', 'Regulon - Zfp281', 'Regulon - Zfp341', 'Regulon - Zfp35', 'Regulon - Zfp354c', 'Regulon - Zfp362', 'Regulon - Zfp369', 'Regulon - Zfp385a', 'Regulon - Zfp445', 'Regulon - Zfp580', 'Regulon - Zfp712', 'Regulon - Zfp729b', 'Regulon - Zfp825', 'Regulon - Zfp932', 'Regulon - Zfp950', 'Regulon - Zfx', 'Regulon - Zic2', 'Regulon - Zmat4', 'Regulon - Zmiz1', 'Regulon - Zscan21', 'Module_1', 'Module_2', 'Module_3', 'Module_4', 'Module_5', 'Module_6', 'Module_7', 'Module_8', 'Module_9', 'Module_10', 'Module_11', 'Module_12', 'Module_13', 'Module_14', 'Module_15', 'Module_16', 'Module_17', 'Module_18', 'Module_19', 'Module_20', 'Module_21', 'Module_22', 'Module_23', 'Module_24', 'Module_25', 'Module_26', 'Module_27', 'Module_28', 'Module_29', 'Module_30', 'Module_31', 'Module_32', 'pct_counts_in_top_50_genes', 'pct_counts_in_top_100_genes', 'pct_counts_in_top_200_genes', 'pct_counts_in_top_500_genes'\n",
       "    var: 'n_cells', 'n_cells_by_counts', 'mean_counts', 'log1p_mean_counts', 'pct_dropout_by_counts', 'total_counts', 'log1p_total_counts', 'Regulon - 2610044O15Rik8', 'Regulon - A1cf', 'Regulon - AW146154', 'Regulon - Ahctf1', 'Regulon - Alx1', 'Regulon - Apex1', 'Regulon - Arnt', 'Regulon - Arnt2', 'Regulon - Barhl1', 'Regulon - Barhl2', 'Regulon - Bbx', 'Regulon - Bclaf1', 'Regulon - Bmyc', 'Regulon - Brca1', 'Regulon - Carf', 'Regulon - Cdc5l', 'Regulon - Cdx1', 'Regulon - Cdx2', 'Regulon - Cebpa', 'Regulon - Cebpb', 'Regulon - Cebpe', 'Regulon - Cebpg', 'Regulon - Cnot3', 'Regulon - Creb3l2', 'Regulon - Ctcfl', 'Regulon - Cux1', 'Regulon - Dbx1', 'Regulon - Ddit3', 'Regulon - Dlx1', 'Regulon - Dlx2', 'Regulon - Dlx3', 'Regulon - Dlx5', 'Regulon - Dlx6', 'Regulon - E2f1', 'Regulon - E2f3', 'Regulon - E2f4', 'Regulon - E2f6', 'Regulon - E2f7', 'Regulon - E2f8', 'Regulon - Ebf2', 'Regulon - Egr2', 'Regulon - Egr3', 'Regulon - Elf2', 'Regulon - Elk3', 'Regulon - Elk4', 'Regulon - Emx1', 'Regulon - Emx2', 'Regulon - En1', 'Regulon - En2', 'Regulon - Ep300', 'Regulon - Esrra', 'Regulon - Esrrg', 'Regulon - Ets1', 'Regulon - Ets2', 'Regulon - Ezh2', 'Regulon - Fli1', 'Regulon - Fos', 'Regulon - Fosl2', 'Regulon - Foxa1', 'Regulon - Foxa2', 'Regulon - Foxa3', 'Regulon - Foxc1', 'Regulon - Foxc2', 'Regulon - Foxf1', 'Regulon - Foxf2', 'Regulon - Foxj1', 'Regulon - Foxl1', 'Regulon - Foxm1', 'Regulon - Foxn1', 'Regulon - Foxo1', 'Regulon - Foxo3', 'Regulon - Foxp1', 'Regulon - Foxp4', 'Regulon - Foxq1', 'Regulon - Gabpa', 'Regulon - Gabpb1', 'Regulon - Gata1', 'Regulon - Gata2', 'Regulon - Gata3', 'Regulon - Gata4', 'Regulon - Gata5', 'Regulon - Gata6', 'Regulon - Gli1', 'Regulon - Gm14305', 'Regulon - Gm3055', 'Regulon - Grhl1', 'Regulon - Grhl2', 'Regulon - Grhl3', 'Regulon - Gsx2', 'Regulon - Gtf2ird1', 'Regulon - Gtpbp1', 'Regulon - Hand2', 'Regulon - Hbp1', 'Regulon - Hdac2', 'Regulon - Hdac3', 'Regulon - Hdac6', 'Regulon - Hic1', 'Regulon - Hlx', 'Regulon - Hmga2', 'Regulon - Hnf1b', 'Regulon - Hnf4a', 'Regulon - Hnf4g', 'Regulon - Hoxa10', 'Regulon - Hoxa11', 'Regulon - Hoxa13', 'Regulon - Hoxa3', 'Regulon - Hoxa5', 'Regulon - Hoxa7', 'Regulon - Hoxa9', 'Regulon - Hoxb5', 'Regulon - Hoxb6', 'Regulon - Hoxb7', 'Regulon - Hoxb8', 'Regulon - Hoxb9', 'Regulon - Hoxc10', 'Regulon - Hoxc11', 'Regulon - Hoxc13', 'Regulon - Hoxc4', 'Regulon - Hoxc5', 'Regulon - Hoxc6', 'Regulon - Hoxc9', 'Regulon - Hoxd11', 'Regulon - Hoxd13', 'Regulon - Hoxd9', 'Regulon - Ikzf1', 'Regulon - Irf1', 'Regulon - Irf8', 'Regulon - Irx4', 'Regulon - Isl1', 'Regulon - Jdp2', 'Regulon - Junb', 'Regulon - Jund', 'Regulon - Kdm5a', 'Regulon - Kdm5b', 'Regulon - Klf10', 'Regulon - Klf2', 'Regulon - Klf3', 'Regulon - Klf4', 'Regulon - Klf5', 'Regulon - Klf6', 'Regulon - Klf7', 'Regulon - Lef1', 'Regulon - Lhx1', 'Regulon - Lhx2', 'Regulon - Lhx5', 'Regulon - Lhx6', 'Regulon - Lhx9', 'Regulon - Lmx1a', 'Regulon - Maf', 'Regulon - Mafb', 'Regulon - Mafk', 'Regulon - Max', 'Regulon - Mecp2', 'Regulon - Mef2a', 'Regulon - Mef2c', 'Regulon - Mef2d', 'Regulon - Mlx', 'Regulon - Msc', 'Regulon - Msx2', 'Regulon - Msx3', 'Regulon - Mtf1', 'Regulon - Myb', 'Regulon - Mybl1', 'Regulon - Myc', 'Regulon - Myf5', 'Regulon - Myf6', 'Regulon - Myod1', 'Regulon - Myog', 'Regulon - Nanos1', 'Regulon - Neurod1', 'Regulon - Nfatc1', 'Regulon - Nfatc2', 'Regulon - Nfatc4', 'Regulon - Nfe2', 'Regulon - Nfe2l1', 'Regulon - Nfe2l2', 'Regulon - Nfic', 'Regulon - Nfil3', 'Regulon - Nfkb2', 'Regulon - Nfya', 'Regulon - Nfyb', 'Regulon - Nfyc', 'Regulon - Nhlh1', 'Regulon - Nkx2-1', 'Regulon - Nr1h3', 'Regulon - Nr1i2', 'Regulon - Nr2c1', 'Regulon - Nr4a1', 'Regulon - Nr5a1', 'Regulon - Nucb1', 'Regulon - Onecut1', 'Regulon - Onecut2', 'Regulon - Onecut3', 'Regulon - Otx2', 'Regulon - Pax6', 'Regulon - Pbx1', 'Regulon - Phox2a', 'Regulon - Phox2b', 'Regulon - Pou1f1', 'Regulon - Pou3f3', 'Regulon - Pou3f4', 'Regulon - Pou4f3', 'Regulon - Pparg', 'Regulon - Ppargc1a', 'Regulon - Ptf1a', 'Regulon - Rbbp5', 'Regulon - Rfx2', 'Regulon - Rfx3', 'Regulon - Rfx4', 'Regulon - Shox2', 'Regulon - Six1', 'Regulon - Six4', 'Regulon - Smad3', 'Regulon - Smad5', 'Regulon - Smarca4', 'Regulon - Smarcc2', 'Regulon - Sox10', 'Regulon - Sox11', 'Regulon - Sox14', 'Regulon - Sox17', 'Regulon - Sox18', 'Regulon - Sox2', 'Regulon - Sox21', 'Regulon - Sox4', 'Regulon - Sox7', 'Regulon - Sox9', 'Regulon - Sp1', 'Regulon - Sp7', 'Regulon - Spi1', 'Regulon - Spib', 'Regulon - Srebf2', 'Regulon - Srf', 'Regulon - Stat1', 'Regulon - Stat3', 'Regulon - Stat6', 'Regulon - Taf1', 'Regulon - Tagln2', 'Regulon - Tal1', 'Regulon - Tbp', 'Regulon - Tbr1', 'Regulon - Tbx1', 'Regulon - Tbx2', 'Regulon - Tbx20', 'Regulon - Tbx5', 'Regulon - Tcf7l1', 'Regulon - Tcf7l2', 'Regulon - Tead1', 'Regulon - Tead4', 'Regulon - Tef', 'Regulon - Tfcp2l1', 'Regulon - Tfdp1', 'Regulon - Tff3', 'Regulon - Thap11', 'Regulon - Thra', 'Regulon - Thrb', 'Regulon - Tlx2', 'Regulon - Tlx3', 'Regulon - Trp63', 'Regulon - Twist1', 'Regulon - Uncx', 'Regulon - Vdr', 'Regulon - Xbp1', 'Regulon - Yy1', 'Regulon - Zbtb18', 'Regulon - Zbtb6', 'Regulon - Zbtb7a', 'Regulon - Zdhhc24', 'Regulon - Zfp143', 'Regulon - Zfp263', 'Regulon - Zfp362', 'Regulon - Zfp385a', 'Regulon - Zfp445', 'Regulon - Zfp580', 'Regulon - Zfp729b', 'Regulon - Zfx', 'Regulon - Zmat4', 'Regulon - Zscan21', 'Module_1', 'Module_10', 'Module_11', 'Module_12', 'Module_13', 'Module_14', 'Module_15', 'Module_16', 'Module_17', 'Module_18', 'Module_19', 'Module_2', 'Module_20', 'Module_21', 'Module_22', 'Module_23', 'Module_24', 'Module_25', 'Module_26', 'Module_27', 'Module_28', 'Module_29', 'Module_3', 'Module_30', 'Module_31', 'Module_32', 'Module_4', 'Module_5', 'Module_6', 'Module_7', 'Module_8', 'Module_9'\n",
       "    uns: 'annotation_colors'\n",
       "    obsm: 'spatial'\n",
       "    varm: 'PCs'\n",
       "    layers: 'count'"
      ]
     },
     "execution_count": 10,
     "metadata": {},
     "output_type": "execute_result"
    }
   ],
   "source": [
    "adata"
   ]
  },
  {
   "cell_type": "code",
   "execution_count": 5,
   "id": "f3f6296c",
   "metadata": {},
   "outputs": [],
   "source": [
    "spatialcoods = pd.DataFrame(adata.obsm['spatial'])\n",
    "spatialcoods.columns = ['x', 'y']\n",
    "\n",
    "exp = pd.DataFrame(adata.X.todense(), columns=adata.var_names, index=spatialcoods.index)"
   ]
  },
  {
   "cell_type": "code",
   "execution_count": null,
   "id": "ed5ad3c4",
   "metadata": {},
   "outputs": [],
   "source": [
    "# spa = adata.obsm['spatial']\n",
    "# spa=pd.DataFrame(spa, columns=['x','y'])\n",
    "\n",
    "# spa = spa.transpose()\n",
    "\n",
    "# spa.loc[:,np.arange(50000,1000000,1)]=np.random.randint(-3000,1000,(2,950000))\n",
    "\n",
    "# spa = spa.transpose()"
   ]
  },
  {
   "cell_type": "code",
   "execution_count": 7,
   "id": "72c4bc25",
   "metadata": {},
   "outputs": [],
   "source": [
    "lens = [10000, 7500, 5000, 2500, 1000]\n",
    "i=3\n",
    "exp=exp.loc[:lens[i],:]\n",
    "spatialcoods=spatialcoods.loc[:lens[i],:]\n",
    "sample = SpatialDM(exp, spatialcoods)  "
   ]
  },
  {
   "cell_type": "code",
   "execution_count": null,
   "id": "1beb909a",
   "metadata": {},
   "outputs": [],
   "source": [
    "times1 = []\n",
    "times2 = []\n",
    "sizes = []\n",
    "\n",
    "lens = [10000, 7500, 5000, 2500, 1000]\n",
    "for i in range(5):\n",
    "    exp=exp.loc[:lens[i],:]\n",
    "    spatialcoods=spatialcoods.loc[:lens[i],:]\n",
    "    sample = SpatialDM(exp, spatialcoods)  \n",
    "    sample.weight_matrix(l=75, cutoff=0.2, single_cell=False) # weight_matrix by rbf kernel\n",
    "    print('cp_w')    \n",
    "    sample.extract_lr('mouse', '/home/yoyo/1_spatial', min_cell=10)      # find overlapping LRs from CellChatDB\n",
    "    print('cp_lr')    \n",
    "    t0 = time.time()\n",
    "    sample.spatialdm_global(1000, select_num=np.arange(50), method='permutation',nproc=50)     # global Moran selection\n",
    "    t1 = time.time()\n",
    "    times1.append(t1-t0)\n",
    "    sample.spatialdm_global(1000, select_num=np.arange(50), method='z-score',nproc=50)     # global Moran selection\n",
    "    t2 = time.time()\n",
    "    times2.append(t2-t1)\n",
    "    sizes.append(sample.no_pairs)\n",
    "    print('permutation: ')\n",
    "    print(times1)\n",
    "    print('z-score: ')\n",
    "    print(times2)\n",
    "\n",
    "checkpoint = dict(times1=times1, times2=times2, sizes=sizes)"
   ]
  },
  {
   "cell_type": "code",
   "execution_count": 20,
   "id": "2cf8a88e",
   "metadata": {
    "scrolled": false
   },
   "outputs": [
    {
     "data": {
      "text/plain": [
       "[252.92526602745056, 235.67109322547913]"
      ]
     },
     "execution_count": 20,
     "metadata": {},
     "output_type": "execute_result"
    }
   ],
   "source": [
    "times1"
   ]
  },
  {
   "cell_type": "code",
   "execution_count": 21,
   "id": "bac58bd4",
   "metadata": {},
   "outputs": [
    {
     "data": {
      "text/plain": [
       "[4.314467668533325, 4.03339695930481]"
      ]
     },
     "execution_count": 21,
     "metadata": {},
     "output_type": "execute_result"
    }
   ],
   "source": [
    "times2"
   ]
  },
  {
   "cell_type": "code",
   "execution_count": null,
   "id": "865a00e7",
   "metadata": {},
   "outputs": [],
   "source": [
    "for k, v in checkpoint.items():\n",
    "    np.save('{}_re.npy'.format(k), np.array(v, dtype=object))\n",
    "    print('Successfully save perm_dir/{} ...'.format(k))"
   ]
  },
  {
   "cell_type": "markdown",
   "id": "5ada12c5",
   "metadata": {},
   "source": [
    "## sparse"
   ]
  },
  {
   "cell_type": "code",
   "execution_count": 14,
   "id": "2cbb484e",
   "metadata": {},
   "outputs": [],
   "source": [
    "# datadir = '/home/yoyo/1_spatial/1_Tumor/data/'\n",
    "# exp=pd.read_csv(datadir + 'logcounts.csv',header=0,index_col=0)\n",
    "# exp = exp.transpose()\n",
    "# spatialcoord = pd.read_csv(datadir+'spatialcoord.csv', index_col=0)\n",
    "# spatialcoord.columns = ['x', 'y']\n",
    "# exp.index = spatialcoord.index\n"
   ]
  },
  {
   "cell_type": "code",
   "execution_count": 122,
   "id": "807776a7",
   "metadata": {
    "scrolled": true
   },
   "outputs": [],
   "source": [
    "# res=sample.global_res.merge(sps.global_res, left_index=True, right_index=True)"
   ]
  },
  {
   "cell_type": "code",
   "execution_count": 124,
   "id": "b3c527fe",
   "metadata": {},
   "outputs": [],
   "source": [
    "# res.columns=['ligand_x', 'receptor_x', 'z_pval', 'perm_pval', 'ligand_y',\n",
    "#        'receptor_y', 'z_pval_sparse', 'perm_pval_sparse']"
   ]
  },
  {
   "cell_type": "code",
   "execution_count": 132,
   "id": "f4666348",
   "metadata": {},
   "outputs": [],
   "source": [
    "# from main_sparse2 import *"
   ]
  },
  {
   "cell_type": "code",
   "execution_count": 133,
   "id": "29f7d0ac",
   "metadata": {},
   "outputs": [
    {
     "name": "stdout",
     "output_type": "stream",
     "text": [
      "cp_w\n",
      "cp_lr\n"
     ]
    },
    {
     "name": "stderr",
     "output_type": "stream",
     "text": [
      "/home/yoyo/1_spatial/1_Tumor/git_rep/SpatialDM/spatialdm/main_sparse2.py:133: RuntimeWarning: invalid value encountered in double_scalars\n",
      "  self.st = self.v ** (1 / 2)\n"
     ]
    },
    {
     "name": "stdout",
     "output_type": "stream",
     "text": [
      "sub\n",
      "0\n",
      "0pairs global selection finished in: 0.024596452713012695\n",
      "sub\n",
      "1\n",
      "1pairs global selection finished in: 0.01836371421813965\n",
      "sub\n",
      "2\n",
      "2pairs global selection finished in: 0.020919322967529297\n",
      "sub\n",
      "3\n",
      "3pairs global selection finished in: 0.02090001106262207\n",
      "sub\n",
      "4\n",
      "4pairs global selection finished in: 0.018825769424438477\n",
      "sub\n",
      "5\n",
      "5pairs global selection finished in: 0.01797342300415039\n",
      "sub\n",
      "6\n",
      "6pairs global selection finished in: 0.018819332122802734\n",
      "sub\n",
      "7\n",
      "7pairs global selection finished in: 0.017947673797607422\n",
      "sub\n",
      "8\n",
      "8pairs global selection finished in: 0.019181013107299805\n",
      "sub\n",
      "9\n",
      "9pairs global selection finished in: 0.01812744140625\n",
      "sub\n",
      "10\n",
      "10pairs global selection finished in: 0.02234625816345215\n",
      "sub\n",
      "11\n",
      "11pairs global selection finished in: 0.018474817276000977\n",
      "sub\n",
      "12\n",
      "12pairs global selection finished in: 0.018585205078125\n",
      "sub\n",
      "13\n",
      "13pairs global selection finished in: 0.017711639404296875\n",
      "sub\n",
      "14\n",
      "14pairs global selection finished in: 0.019115209579467773\n",
      "sub\n",
      "15\n",
      "15pairs global selection finished in: 0.01841449737548828\n",
      "sub\n",
      "16\n",
      "16pairs global selection finished in: 0.02302837371826172\n",
      "sub\n",
      "17\n",
      "17pairs global selection finished in: 0.017618656158447266\n",
      "sub\n",
      "18\n",
      "18pairs global selection finished in: 0.018182992935180664\n",
      "sub\n",
      "19\n",
      "19pairs global selection finished in: 0.017783403396606445\n",
      "sub\n",
      "20\n",
      "20pairs global selection finished in: 0.018325090408325195\n",
      "sub\n",
      "21\n",
      "21pairs global selection finished in: 0.018052101135253906\n",
      "sub\n",
      "22\n",
      "22pairs global selection finished in: 0.01863551139831543\n",
      "sub\n",
      "23\n",
      "23pairs global selection finished in: 0.01777815818786621\n",
      "sub\n",
      "24\n",
      "24pairs global selection finished in: 0.018916845321655273\n",
      "sub\n",
      "25\n",
      "25pairs global selection finished in: 0.01752758026123047\n",
      "sub\n",
      "26\n",
      "26pairs global selection finished in: 0.01871800422668457\n",
      "sub\n",
      "27\n",
      "27pairs global selection finished in: 0.018157243728637695\n",
      "sub\n",
      "28\n",
      "28pairs global selection finished in: 0.018022537231445312\n",
      "sub\n",
      "29\n",
      "29pairs global selection finished in: 0.01794719696044922\n",
      "sub\n",
      "30\n",
      "30pairs global selection finished in: 0.018105506896972656\n",
      "sub\n",
      "31\n",
      "31pairs global selection finished in: 0.017204999923706055\n",
      "sub\n",
      "32\n",
      "32pairs global selection finished in: 0.01869344711303711\n",
      "sub\n",
      "33\n",
      "33pairs global selection finished in: 0.01793527603149414\n",
      "sub\n",
      "34\n",
      "34pairs global selection finished in: 0.01831340789794922\n",
      "sub\n",
      "35\n",
      "35pairs global selection finished in: 0.017572879791259766\n",
      "sub\n",
      "36\n",
      "36pairs global selection finished in: 0.018926143646240234\n",
      "sub\n",
      "37\n",
      "37pairs global selection finished in: 0.01784658432006836\n",
      "sub\n",
      "38\n",
      "38pairs global selection finished in: 0.01843857765197754\n",
      "sub\n",
      "39\n",
      "39pairs global selection finished in: 0.01748037338256836\n",
      "sub\n",
      "40\n",
      "40pairs global selection finished in: 0.018652915954589844\n",
      "sub\n",
      "41\n",
      "41pairs global selection finished in: 0.018928050994873047\n",
      "sub\n",
      "42\n",
      "42pairs global selection finished in: 0.019713163375854492\n",
      "sub\n",
      "43\n",
      "43pairs global selection finished in: 0.01803898811340332\n",
      "sub\n",
      "44\n",
      "44pairs global selection finished in: 0.018862009048461914\n",
      "sub\n",
      "45\n",
      "45pairs global selection finished in: 0.01771068572998047\n",
      "sub\n",
      "46\n",
      "46pairs global selection finished in: 0.019165992736816406\n",
      "sub\n",
      "47\n",
      "47pairs global selection finished in: 0.017874479293823242\n",
      "sub\n",
      "48\n",
      "48pairs global selection finished in: 0.019183635711669922\n",
      "sub\n",
      "49\n",
      "49pairs global selection finished in: 0.017947673797607422\n",
      "sub\n",
      "50\n",
      "50pairs global selection finished in: 0.023432493209838867\n",
      "sub\n",
      "51\n",
      "51pairs global selection finished in: 0.018882274627685547\n",
      "sub\n",
      "52\n",
      "52pairs global selection finished in: 0.01915431022644043\n",
      "sub\n",
      "53\n",
      "53pairs global selection finished in: 0.019005298614501953\n",
      "sub\n",
      "54\n",
      "54pairs global selection finished in: 0.01935744285583496\n",
      "sub\n",
      "55\n",
      "55pairs global selection finished in: 0.018798112869262695\n",
      "sub\n",
      "56\n",
      "56pairs global selection finished in: 0.018589019775390625\n",
      "sub\n",
      "57\n",
      "57pairs global selection finished in: 0.01931476593017578\n",
      "sub\n",
      "58\n",
      "58pairs global selection finished in: 0.018604040145874023\n",
      "sub\n",
      "59\n",
      "59pairs global selection finished in: 0.018109560012817383\n",
      "sub\n",
      "60\n",
      "60pairs global selection finished in: 0.019058704376220703\n",
      "sub\n",
      "61\n",
      "61pairs global selection finished in: 0.01902484893798828\n",
      "sub\n",
      "62\n",
      "62pairs global selection finished in: 0.019257068634033203\n",
      "sub\n",
      "63\n",
      "63pairs global selection finished in: 0.02044391632080078\n",
      "sub\n",
      "64\n",
      "64pairs global selection finished in: 0.019728899002075195\n",
      "sub\n",
      "65\n",
      "65pairs global selection finished in: 0.01917409896850586\n",
      "sub\n",
      "66\n",
      "66pairs global selection finished in: 0.024464845657348633\n",
      "sub\n",
      "67\n",
      "67pairs global selection finished in: 0.01778864860534668\n",
      "sub\n",
      "68\n",
      "68pairs global selection finished in: 0.018153667449951172\n",
      "sub\n",
      "69\n",
      "69pairs global selection finished in: 0.01775527000427246\n",
      "sub\n",
      "70\n",
      "70pairs global selection finished in: 0.019036293029785156\n",
      "sub\n",
      "71\n",
      "71pairs global selection finished in: 0.01796412467956543\n",
      "sub\n",
      "72\n",
      "72pairs global selection finished in: 0.01841878890991211\n",
      "sub\n",
      "73\n",
      "73pairs global selection finished in: 0.018019676208496094\n",
      "sub\n",
      "74\n",
      "74pairs global selection finished in: 0.018381595611572266\n",
      "sub\n",
      "75\n",
      "75pairs global selection finished in: 0.018363475799560547\n",
      "sub\n",
      "76\n",
      "76pairs global selection finished in: 0.02385544776916504\n",
      "sub\n",
      "77\n",
      "77pairs global selection finished in: 0.018169164657592773\n",
      "sub\n",
      "78\n",
      "78pairs global selection finished in: 0.01894378662109375\n",
      "sub\n",
      "79\n",
      "79pairs global selection finished in: 0.0175321102142334\n",
      "sub\n",
      "80\n",
      "80pairs global selection finished in: 0.01836681365966797\n",
      "sub\n",
      "81\n",
      "81pairs global selection finished in: 0.017586469650268555\n",
      "sub\n",
      "82\n",
      "82pairs global selection finished in: 0.018717288970947266\n",
      "sub\n",
      "83\n",
      "83pairs global selection finished in: 0.017565488815307617\n",
      "sub\n",
      "84\n",
      "84pairs global selection finished in: 0.019054412841796875\n",
      "sub\n",
      "85\n",
      "85pairs global selection finished in: 0.019645214080810547\n",
      "sub\n",
      "86\n",
      "86pairs global selection finished in: 0.018860578536987305\n",
      "sub\n",
      "87\n",
      "87pairs global selection finished in: 0.01860499382019043\n",
      "sub\n",
      "88\n",
      "88pairs global selection finished in: 0.023276805877685547\n",
      "sub\n",
      "89\n",
      "89pairs global selection finished in: 0.018017053604125977\n",
      "sub\n",
      "90\n",
      "90pairs global selection finished in: 0.018552064895629883\n",
      "sub\n",
      "91\n",
      "91pairs global selection finished in: 0.017787933349609375\n",
      "sub\n",
      "92\n",
      "92pairs global selection finished in: 0.018544673919677734\n",
      "sub\n",
      "93\n",
      "93pairs global selection finished in: 0.018741369247436523\n",
      "sub\n",
      "94\n",
      "94pairs global selection finished in: 0.022971153259277344\n",
      "sub\n",
      "95\n",
      "95pairs global selection finished in: 0.017919301986694336\n",
      "sub\n",
      "96\n",
      "96pairs global selection finished in: 0.018556594848632812\n",
      "sub\n",
      "97\n",
      "97pairs global selection finished in: 0.017985105514526367\n",
      "sub\n",
      "98\n",
      "98pairs global selection finished in: 0.020375967025756836\n",
      "sub\n",
      "99\n",
      "99pairs global selection finished in: 0.018396615982055664\n"
     ]
    }
   ],
   "source": [
    "# sps = SpatialDM(sample.exp, sample.spatialcoord)  \n",
    "# sps.rbf_d = csc_matrix(pdist_res)\n",
    "# print('cp_w')    \n",
    "# sps.extract_lr('human', '/home/yoyo/1_spatial', min_cell=10)      # find overlapping LRs from CellChatDB\n",
    "# print('cp_lr')    \n",
    "# t0 = time.time()\n",
    "# sps.spatialdm_global(100, select_num=np.arange(100), method='both',nproc=50)     # global Moran selection\n",
    "# t1 = time.time()"
   ]
  }
 ],
 "metadata": {
  "kernelspec": {
   "display_name": "Python 3",
   "language": "python",
   "name": "python3"
  },
  "language_info": {
   "codemirror_mode": {
    "name": "ipython",
    "version": 3
   },
   "file_extension": ".py",
   "mimetype": "text/x-python",
   "name": "python",
   "nbconvert_exporter": "python",
   "pygments_lexer": "ipython3",
   "version": "3.9.7"
  }
 },
 "nbformat": 4,
 "nbformat_minor": 5
}
